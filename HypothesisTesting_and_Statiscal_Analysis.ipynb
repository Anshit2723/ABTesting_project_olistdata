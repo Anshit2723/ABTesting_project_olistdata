{
 "cells": [
  {
   "cell_type": "code",
   "execution_count": 1,
   "metadata": {},
   "outputs": [],
   "source": [
    "import pandas as pd \n",
    "import numpy as np\n",
    "import matplotlib.pyplot as plt\n",
    "import seaborn as sns"
   ]
  },
  {
   "cell_type": "code",
   "execution_count": 2,
   "metadata": {},
   "outputs": [],
   "source": [
    "sampled_data=pd.read_csv('sampled_data.csv')"
   ]
  },
  {
   "cell_type": "code",
   "execution_count": 3,
   "metadata": {},
   "outputs": [
    {
     "data": {
      "text/html": [
       "<div>\n",
       "<style scoped>\n",
       "    .dataframe tbody tr th:only-of-type {\n",
       "        vertical-align: middle;\n",
       "    }\n",
       "\n",
       "    .dataframe tbody tr th {\n",
       "        vertical-align: top;\n",
       "    }\n",
       "\n",
       "    .dataframe thead th {\n",
       "        text-align: right;\n",
       "    }\n",
       "</style>\n",
       "<table border=\"1\" class=\"dataframe\">\n",
       "  <thead>\n",
       "    <tr style=\"text-align: right;\">\n",
       "      <th></th>\n",
       "      <th>order_id</th>\n",
       "      <th>customer_id</th>\n",
       "      <th>order_status</th>\n",
       "      <th>order_purchase_timestamp</th>\n",
       "      <th>order_approved_at</th>\n",
       "      <th>order_delivered_carrier_date</th>\n",
       "      <th>order_delivered_customer_date</th>\n",
       "      <th>order_estimated_delivery_date</th>\n",
       "      <th>customer_unique_id</th>\n",
       "      <th>customer_zip_code_prefix</th>\n",
       "      <th>...</th>\n",
       "      <th>review_creation_date</th>\n",
       "      <th>review_answer_timestamp</th>\n",
       "      <th>seller_zip_code_prefix</th>\n",
       "      <th>seller_city</th>\n",
       "      <th>seller_state</th>\n",
       "      <th>geolocation_zip_code_prefix</th>\n",
       "      <th>geolocation_lat</th>\n",
       "      <th>geolocation_lng</th>\n",
       "      <th>geolocation_city</th>\n",
       "      <th>geolocation_state</th>\n",
       "    </tr>\n",
       "  </thead>\n",
       "  <tbody>\n",
       "    <tr>\n",
       "      <th>0</th>\n",
       "      <td>e5535466d23681cc97013097a0644150</td>\n",
       "      <td>10d2967d139449709e9f095b22b0f1d0</td>\n",
       "      <td>delivered</td>\n",
       "      <td>2017-12-13 16:02:41</td>\n",
       "      <td>2017-12-15 13:15:29</td>\n",
       "      <td>2017-12-18 16:14:38</td>\n",
       "      <td>2018-01-24 17:22:31</td>\n",
       "      <td>2018-01-15 00:00:00</td>\n",
       "      <td>ef27ccb46b9ea8056a968d34a0b03374</td>\n",
       "      <td>28950</td>\n",
       "      <td>...</td>\n",
       "      <td>2018-01-19 00:00:00</td>\n",
       "      <td>2018-01-19 11:01:02</td>\n",
       "      <td>14840</td>\n",
       "      <td>guariba</td>\n",
       "      <td>SP</td>\n",
       "      <td>28950.0</td>\n",
       "      <td>-22.770718</td>\n",
       "      <td>-41.911736</td>\n",
       "      <td>armação dos búzios</td>\n",
       "      <td>RJ</td>\n",
       "    </tr>\n",
       "    <tr>\n",
       "      <th>1</th>\n",
       "      <td>8f78b315dd28cdac3c6fc9b52cb56795</td>\n",
       "      <td>aa22daee92f1c49865df08f7b28b4d57</td>\n",
       "      <td>delivered</td>\n",
       "      <td>2017-06-04 21:52:53</td>\n",
       "      <td>2017-06-04 22:02:25</td>\n",
       "      <td>2017-06-06 11:17:53</td>\n",
       "      <td>2017-06-07 14:04:53</td>\n",
       "      <td>2017-06-19 00:00:00</td>\n",
       "      <td>b7487f6dfc6da31a900f80971ffe8896</td>\n",
       "      <td>31720</td>\n",
       "      <td>...</td>\n",
       "      <td>2017-06-21 00:00:00</td>\n",
       "      <td>2017-06-21 20:52:49</td>\n",
       "      <td>31255</td>\n",
       "      <td>belo horizonte</td>\n",
       "      <td>MG</td>\n",
       "      <td>31720.0</td>\n",
       "      <td>-19.840435</td>\n",
       "      <td>-43.950514</td>\n",
       "      <td>belo horizonte</td>\n",
       "      <td>MG</td>\n",
       "    </tr>\n",
       "    <tr>\n",
       "      <th>2</th>\n",
       "      <td>366b94daa22781675a0ffffbcbd517a9</td>\n",
       "      <td>e3b2363f99d58cd6fe161ffe0ee40a95</td>\n",
       "      <td>delivered</td>\n",
       "      <td>2018-02-24 16:23:28</td>\n",
       "      <td>2018-02-24 16:30:55</td>\n",
       "      <td>2018-02-26 23:37:25</td>\n",
       "      <td>2018-03-06 18:11:38</td>\n",
       "      <td>2018-03-16 00:00:00</td>\n",
       "      <td>5cfeedd15a7c79f117a1a2cc2451cb4a</td>\n",
       "      <td>22230</td>\n",
       "      <td>...</td>\n",
       "      <td>2018-03-07 00:00:00</td>\n",
       "      <td>2018-03-09 17:50:58</td>\n",
       "      <td>13076</td>\n",
       "      <td>campinas</td>\n",
       "      <td>SP</td>\n",
       "      <td>22230.0</td>\n",
       "      <td>-22.937798</td>\n",
       "      <td>-43.177770</td>\n",
       "      <td>rio de janeiro</td>\n",
       "      <td>RJ</td>\n",
       "    </tr>\n",
       "    <tr>\n",
       "      <th>3</th>\n",
       "      <td>9ec41066fe9773c225c01e1a10bee705</td>\n",
       "      <td>88d28eeeb569b3f9acf4a1201b8cc38f</td>\n",
       "      <td>delivered</td>\n",
       "      <td>2018-02-28 21:31:09</td>\n",
       "      <td>2018-02-28 22:07:42</td>\n",
       "      <td>2018-03-05 10:42:53</td>\n",
       "      <td>2018-03-26 15:51:44</td>\n",
       "      <td>2018-04-03 00:00:00</td>\n",
       "      <td>8e6778e57f11d27fdad9007241a86d6d</td>\n",
       "      <td>15400</td>\n",
       "      <td>...</td>\n",
       "      <td>2018-03-27 00:00:00</td>\n",
       "      <td>2018-03-29 15:16:47</td>\n",
       "      <td>11704</td>\n",
       "      <td>praia grande</td>\n",
       "      <td>SP</td>\n",
       "      <td>15400.0</td>\n",
       "      <td>-20.740221</td>\n",
       "      <td>-48.888824</td>\n",
       "      <td>olímpia</td>\n",
       "      <td>SP</td>\n",
       "    </tr>\n",
       "    <tr>\n",
       "      <th>4</th>\n",
       "      <td>cebd81d91393b014d64df92a97a7f80c</td>\n",
       "      <td>862d78ca89647c96068b98673b2de19d</td>\n",
       "      <td>delivered</td>\n",
       "      <td>2018-07-30 16:17:23</td>\n",
       "      <td>2018-07-30 20:30:57</td>\n",
       "      <td>2018-07-31 15:18:00</td>\n",
       "      <td>2018-08-01 11:06:34</td>\n",
       "      <td>2018-08-02 00:00:00</td>\n",
       "      <td>8409538dd13716baf525432c99d7fb79</td>\n",
       "      <td>13482</td>\n",
       "      <td>...</td>\n",
       "      <td>2018-08-02 00:00:00</td>\n",
       "      <td>2018-08-05 23:38:21</td>\n",
       "      <td>9015</td>\n",
       "      <td>santo andre</td>\n",
       "      <td>SP</td>\n",
       "      <td>13482.0</td>\n",
       "      <td>-22.574867</td>\n",
       "      <td>-47.443778</td>\n",
       "      <td>limeira</td>\n",
       "      <td>SP</td>\n",
       "    </tr>\n",
       "  </tbody>\n",
       "</table>\n",
       "<p>5 rows × 44 columns</p>\n",
       "</div>"
      ],
      "text/plain": [
       "                           order_id                       customer_id  \\\n",
       "0  e5535466d23681cc97013097a0644150  10d2967d139449709e9f095b22b0f1d0   \n",
       "1  8f78b315dd28cdac3c6fc9b52cb56795  aa22daee92f1c49865df08f7b28b4d57   \n",
       "2  366b94daa22781675a0ffffbcbd517a9  e3b2363f99d58cd6fe161ffe0ee40a95   \n",
       "3  9ec41066fe9773c225c01e1a10bee705  88d28eeeb569b3f9acf4a1201b8cc38f   \n",
       "4  cebd81d91393b014d64df92a97a7f80c  862d78ca89647c96068b98673b2de19d   \n",
       "\n",
       "  order_status order_purchase_timestamp    order_approved_at  \\\n",
       "0    delivered      2017-12-13 16:02:41  2017-12-15 13:15:29   \n",
       "1    delivered      2017-06-04 21:52:53  2017-06-04 22:02:25   \n",
       "2    delivered      2018-02-24 16:23:28  2018-02-24 16:30:55   \n",
       "3    delivered      2018-02-28 21:31:09  2018-02-28 22:07:42   \n",
       "4    delivered      2018-07-30 16:17:23  2018-07-30 20:30:57   \n",
       "\n",
       "  order_delivered_carrier_date order_delivered_customer_date  \\\n",
       "0          2017-12-18 16:14:38           2018-01-24 17:22:31   \n",
       "1          2017-06-06 11:17:53           2017-06-07 14:04:53   \n",
       "2          2018-02-26 23:37:25           2018-03-06 18:11:38   \n",
       "3          2018-03-05 10:42:53           2018-03-26 15:51:44   \n",
       "4          2018-07-31 15:18:00           2018-08-01 11:06:34   \n",
       "\n",
       "  order_estimated_delivery_date                customer_unique_id  \\\n",
       "0           2018-01-15 00:00:00  ef27ccb46b9ea8056a968d34a0b03374   \n",
       "1           2017-06-19 00:00:00  b7487f6dfc6da31a900f80971ffe8896   \n",
       "2           2018-03-16 00:00:00  5cfeedd15a7c79f117a1a2cc2451cb4a   \n",
       "3           2018-04-03 00:00:00  8e6778e57f11d27fdad9007241a86d6d   \n",
       "4           2018-08-02 00:00:00  8409538dd13716baf525432c99d7fb79   \n",
       "\n",
       "   customer_zip_code_prefix  ... review_creation_date review_answer_timestamp  \\\n",
       "0                     28950  ...  2018-01-19 00:00:00     2018-01-19 11:01:02   \n",
       "1                     31720  ...  2017-06-21 00:00:00     2017-06-21 20:52:49   \n",
       "2                     22230  ...  2018-03-07 00:00:00     2018-03-09 17:50:58   \n",
       "3                     15400  ...  2018-03-27 00:00:00     2018-03-29 15:16:47   \n",
       "4                     13482  ...  2018-08-02 00:00:00     2018-08-05 23:38:21   \n",
       "\n",
       "   seller_zip_code_prefix     seller_city  seller_state  \\\n",
       "0                   14840         guariba            SP   \n",
       "1                   31255  belo horizonte            MG   \n",
       "2                   13076        campinas            SP   \n",
       "3                   11704    praia grande            SP   \n",
       "4                    9015     santo andre            SP   \n",
       "\n",
       "   geolocation_zip_code_prefix  geolocation_lat geolocation_lng  \\\n",
       "0                      28950.0       -22.770718      -41.911736   \n",
       "1                      31720.0       -19.840435      -43.950514   \n",
       "2                      22230.0       -22.937798      -43.177770   \n",
       "3                      15400.0       -20.740221      -48.888824   \n",
       "4                      13482.0       -22.574867      -47.443778   \n",
       "\n",
       "     geolocation_city geolocation_state  \n",
       "0  armação dos búzios                RJ  \n",
       "1      belo horizonte                MG  \n",
       "2      rio de janeiro                RJ  \n",
       "3             olímpia                SP  \n",
       "4             limeira                SP  \n",
       "\n",
       "[5 rows x 44 columns]"
      ]
     },
     "execution_count": 3,
     "metadata": {},
     "output_type": "execute_result"
    }
   ],
   "source": [
    "sampled_data.head()"
   ]
  },
  {
   "cell_type": "code",
   "execution_count": 4,
   "metadata": {},
   "outputs": [
    {
     "data": {
      "text/plain": [
       "(120998, 44)"
      ]
     },
     "execution_count": 4,
     "metadata": {},
     "output_type": "execute_result"
    }
   ],
   "source": [
    "sampled_data.shape"
   ]
  },
  {
   "cell_type": "markdown",
   "metadata": {},
   "source": [
    "<h1>\n",
    "<span style =\"color:blue\">Setting Up Hypotheses for A/B Testing</span></h1>"
   ]
  },
  {
   "cell_type": "markdown",
   "metadata": {},
   "source": [
    "<h3><span style =\"color:black\">Null Hypothesis (𝐻0): There is no significant difference in conversion rates for high-value orders between the treatment group (top categories) and the control group (other categories).\n",
    "\n",
    "\n",
    "\n",
    "\n",
    "\n",
    "\n",
    "Alternative Hypothesis (H1): There is a significant difference in conversion rates for high-value orders between the treatment group (top categories) and the control group (other categories)</h3></span>"
   ]
  },
  {
   "cell_type": "markdown",
   "metadata": {},
   "source": [
    " <h4>A/B Test Setup</h4>\n"
   ]
  },
  {
   "cell_type": "code",
   "execution_count": 5,
   "metadata": {},
   "outputs": [
    {
     "name": "stdout",
     "output_type": "stream",
     "text": [
      "product_category_name\n",
      "cama_mesa_banho           12816\n",
      "beleza_saude               9765\n",
      "moveis_decoracao           9423\n",
      "esporte_lazer              9250\n",
      "informatica_acessorios     8415\n",
      "utilidades_domesticas      7802\n",
      "relogios_presentes         5975\n",
      "ferramentas_jardim         4832\n",
      "brinquedos                 4426\n",
      "telefonia                  4329\n",
      "Name: count, dtype: int64\n"
     ]
    }
   ],
   "source": [
    "top_categories = sampled_data['product_category_name'].value_counts().head(10)\n",
    "print(top_categories)"
   ]
  },
  {
   "cell_type": "code",
   "execution_count": 6,
   "metadata": {},
   "outputs": [
    {
     "name": "stdout",
     "output_type": "stream",
     "text": [
      "Treatment Group Size: 77033\n",
      "Control Group Size: 43965\n"
     ]
    }
   ],
   "source": [
    "import numpy as np\n",
    "\n",
    "# group assignment\n",
    "sampled_data['group'] = np.where(sampled_data['product_category_name'].isin(top_categories.index), \n",
    "                                  'treatment', 'control')\n",
    "\n",
    "\n",
    "\n",
    "\n",
    "treatment_group = sampled_data[sampled_data['group'] == 'treatment']\n",
    "control_group = sampled_data[sampled_data['group'] == 'control']\n",
    "\n",
    "# Check the size of each group\n",
    "print(f\"Treatment Group Size: {treatment_group.shape[0]}\")\n",
    "print(f\"Control Group Size: {control_group.shape[0]}\")\n"
   ]
  },
  {
   "cell_type": "markdown",
   "metadata": {},
   "source": [
    "Calculating the Minimum Detectable Effect (MDE)"
   ]
  },
  {
   "cell_type": "code",
   "execution_count": 7,
   "metadata": {},
   "outputs": [],
   "source": [
    "import numpy as np\n",
    "from scipy.stats import norm\n"
   ]
  },
  {
   "cell_type": "markdown",
   "metadata": {},
   "source": [
    "MDE= sqrt((p1(1−p1)/n)+(p2(1−p2)/n))⋅(zα+zβ)"
   ]
  },
  {
   "cell_type": "markdown",
   "metadata": {},
   "source": [
    "<h2>Hypothesis Testing</h2>"
   ]
  },
  {
   "cell_type": "code",
   "execution_count": 8,
   "metadata": {},
   "outputs": [],
   "source": [
    "sampled_data['Total_price']=sampled_data['price']+sampled_data['freight_value']"
   ]
  },
  {
   "cell_type": "code",
   "execution_count": 9,
   "metadata": {},
   "outputs": [
    {
     "data": {
      "text/plain": [
       "((120998,), (120998,))"
      ]
     },
     "execution_count": 9,
     "metadata": {},
     "output_type": "execute_result"
    }
   ],
   "source": [
    "sampled_data['Total_price'].shape,sampled_data['price'].shape"
   ]
  },
  {
   "cell_type": "code",
   "execution_count": 10,
   "metadata": {},
   "outputs": [
    {
     "data": {
      "text/plain": [
       "count    120998.000000\n",
       "mean        139.458035\n",
       "std         188.383992\n",
       "min           6.080000\n",
       "25%          55.952500\n",
       "50%          92.300000\n",
       "75%         157.130000\n",
       "max        6922.210000\n",
       "Name: Total_price, dtype: float64"
      ]
     },
     "execution_count": 10,
     "metadata": {},
     "output_type": "execute_result"
    }
   ],
   "source": [
    "sampled_data['Total_price'].describe()"
   ]
  },
  {
   "cell_type": "code",
   "execution_count": 11,
   "metadata": {},
   "outputs": [
    {
     "name": "stdout",
     "output_type": "stream",
     "text": [
      "               price  freight_value    Total_price  payment_value\n",
      "count  120998.000000  120998.000000  120998.000000  120986.000000\n",
      "mean      119.676328      19.781708     139.458035     172.147484\n",
      "std       181.368846      15.202120     188.383992     257.307260\n",
      "min         0.850000       0.000000       6.080000       0.000000\n",
      "25%        39.990000      13.530000      55.952500      61.730000\n",
      "50%        74.990000      16.320000      92.300000     109.600000\n",
      "75%       134.900000      20.710000     157.130000     189.830000\n",
      "max      6729.000000     375.280000    6922.210000   13664.080000\n",
      "categorical_summary\n",
      "       product_category_name payment_type\n",
      "count                 120998       120986\n",
      "unique                    74            4\n",
      "top          cama_mesa_banho  credit_card\n",
      "freq                   12816        89144\n"
     ]
    }
   ],
   "source": [
    "# Selecting relevant numerical columns for summary statistics\n",
    "numerical_columns = ['price', 'freight_value','Total_price', 'payment_value']  \n",
    "summary_statistics = sampled_data[numerical_columns].describe()\n",
    "print(summary_statistics)\n",
    "\n",
    "# Summary for categorical columns\n",
    "categorical_columns = ['product_category_name', 'payment_type']  \n",
    "print('categorical_summary')\n",
    "print(categorical_summary)\n",
    "\n"
   ]
  },
  {
   "cell_type": "markdown",
   "metadata": {},
   "source": [
    "Key Statistics:\n",
    "The mean total price is around 139.46 units, and the mean payment value is 172.15 units. This suggests that, on average, the payment value exceeds the total price by about 23.4%.\n",
    "However, this is based on the entire dataset, including outliers, so a 15% threshold seems practical and more conservative for defining \"successful\" orders.\n",
    "\n"
   ]
  },
  {
   "cell_type": "markdown",
   "metadata": {},
   "source": [
    "top categories analysis"
   ]
  },
  {
   "cell_type": "code",
   "execution_count": 12,
   "metadata": {},
   "outputs": [
    {
     "name": "stdout",
     "output_type": "stream",
     "text": [
      "Conversion Rate (Order Delivered + Payment Confirmed): 15.08%\n",
      " % (High-Value Orders): 22.18%\n",
      "Category-Specific Conversion Rates (Top Categories):\n",
      "product_category_name\n",
      "beleza_saude               4.085646\n",
      "brinquedos                 2.920057\n",
      "cama_mesa_banho            9.806500\n",
      "esporte_lazer              5.911920\n",
      "ferramentas_jardim         9.822785\n",
      "informatica_acessorios     9.719222\n",
      "moveis_decoracao          10.736445\n",
      "relogios_presentes         3.423485\n",
      "telefonia                  2.294455\n",
      "utilidades_domesticas      7.017011\n",
      "dtype: float64\n",
      "\n"
     ]
    },
    {
     "name": "stderr",
     "output_type": "stream",
     "text": [
      "C:\\Users\\chatu\\AppData\\Local\\Temp\\ipykernel_18272\\752789168.py:15: DeprecationWarning: DataFrameGroupBy.apply operated on the grouping columns. This behavior is deprecated, and in a future version of pandas the grouping columns will be excluded from the operation. Either pass `include_groups=False` to exclude the groupings or explicitly select the grouping columns after groupby to silence this warning.\n",
      "  category_conversion_rates = df_top.groupby('product_category_name').apply(\n"
     ]
    }
   ],
   "source": [
    "def calculate_metrics_top_categories(df, high_value_threshold, top_categories):\n",
    "    # data to include only the top categories\n",
    "    df_top = df[df['product_category_name'].isin(top_categories.index)]\n",
    "    \n",
    "    # 1. Order Delivered + Payment Confirmed\n",
    "    successful_orders = df_top[(df_top['order_status'] == 'delivered') & ((df_top['payment_value'] - df_top['Total_price'])/df_top['Total_price'] >= 0.15 )]\n",
    "    total_orders = df_top['order_id'].nunique()\n",
    "    conversion_rate_delivered_payment_confirmed = successful_orders['order_id'].nunique() / total_orders if total_orders > 0 else 0\n",
    "\n",
    "    # 2. High-Value Orders - ADJUSTED\n",
    "    high_value_orders = df_top[df_top['payment_value'] >= high_value_threshold]\n",
    "    rate_high_value_orders = high_value_orders['order_id'].nunique() / total_orders if total_orders > 0 else 0\n",
    "\n",
    "    # 3. Category-Specific Conversion for Top Categories\n",
    "    category_conversion_rates = df_top.groupby('product_category_name').apply(\n",
    "        lambda x: (x[(x['order_status'] == 'delivered') & ((x['payment_value'] - x['Total_price'])/x['Total_price'] >= 0.15 )& (x['payment_value']>high_value_threshold)]['order_id'].nunique() / x['order_id'].nunique()) * 100 if x['order_id'].nunique() > 0 else 0\n",
    "    )\n",
    "\n",
    "    return {\n",
    "        \"Conversion Rate (Order Delivered + Payment Confirmed)\": conversion_rate_delivered_payment_confirmed,\n",
    "        \" % (High-Value Orders)\": rate_high_value_orders,\n",
    "        \"Category-Specific Conversion Rates (Top Categories)\": category_conversion_rates\n",
    "    }\n",
    "\n",
    "\n",
    "high_value_threshold = 189  \n",
    "\n",
    "# metrics\n",
    "metrics_top_categories = calculate_metrics_top_categories(sampled_data, high_value_threshold, top_categories)\n",
    "\n",
    "# results\n",
    "for key, value in metrics_top_categories.items():\n",
    "    if isinstance(value, pd.Series):  # Check if it's a Series for category-specific rates\n",
    "        print(f\"{key}:\\n{value}\\n\")\n",
    "    else:\n",
    "        print(f\"{key}: {value:.2%}\")\n"
   ]
  },
  {
   "cell_type": "code",
   "execution_count": 13,
   "metadata": {},
   "outputs": [
    {
     "name": "stdout",
     "output_type": "stream",
     "text": [
      "Treatment Group Conversion Rate: 6.79%\n",
      "Control Group Conversion Rate: 5.29%\n"
     ]
    }
   ],
   "source": [
    "# function to calculate conversion rates for treatment and control groups\n",
    "def calculate_group_conversion_rate(df, top_categories):\n",
    "    \n",
    "    total_orders = df['order_id'].nunique()  # Total unique orders in this group\n",
    "    \n",
    "    # success condition\n",
    "    converted_orders = df[(df['order_status'] == 'delivered') & \n",
    "                          ((df['payment_value'] - df['Total_price']) / df['Total_price'] > 0.15) & \n",
    "                          (df['payment_value'] > 189)]\n",
    "    \n",
    "    # number of successfully converted orders\n",
    "    converted_orders_count = converted_orders['order_id'].nunique()  # Count of successful orders\n",
    "    \n",
    "    # Calculating the conversion rate\n",
    "    conversion_rate = converted_orders_count / total_orders if total_orders > 0 else 0\n",
    "    return conversion_rate\n",
    "\n",
    "#  treatment and control groups based on the new definition\n",
    "treatment_group = sampled_data[sampled_data['product_category_name'].isin(top_categories.index)]\n",
    "control_group = sampled_data[~sampled_data['product_category_name'].isin(top_categories.index)]\n",
    "\n",
    "# Calculate conversion rates for both groups\n",
    "treatment_conversion_rate = calculate_group_conversion_rate(treatment_group, top_categories)\n",
    "control_conversion_rate = calculate_group_conversion_rate(control_group, top_categories)\n",
    "\n",
    "# Print the results\n",
    "print(f\"Treatment Group Conversion Rate: {treatment_conversion_rate:.2%}\")\n",
    "print(f\"Control Group Conversion Rate: {control_conversion_rate:.2%}\")\n"
   ]
  },
  {
   "cell_type": "markdown",
   "metadata": {},
   "source": [
    "MDE: Minimum Detectable Effect (2% = 0.02)\n",
    "p pooled: Pooled conversion rate, the average of control and treatment conversion rates.\n",
    "Here’s what the formula represents:\n",
    "\n",
    "Z-scores represent the required confidence and statistical power.\n",
    "Pooled conversion rate averages the control and treatment group rates.\n",
    "MDE reflects the desired detectable difference.\n",
    "Now, based on these parameters and given that:\n",
    "\n",
    "Baseline Conversion Rate (p1): 6.54% (or 0.0654),\n",
    "MDE: 2% (0.02),\n",
    "Power: 0.8,\n",
    "Significance Level (alpha): 0.05,"
   ]
  },
  {
   "cell_type": "markdown",
   "metadata": {},
   "source": [
    "<h3>Business Goal:\n",
    "Objective: Detect a 2% increase in conversion rate for key product categories, especially high-value orders.</h3>"
   ]
  },
  {
   "cell_type": "code",
   "execution_count": 14,
   "metadata": {},
   "outputs": [
    {
     "name": "stdout",
     "output_type": "stream",
     "text": [
      "Required sample size per group: 1142.0\n"
     ]
    }
   ],
   "source": [
    "import numpy as np\n",
    "from scipy.stats import norm\n",
    "\n",
    "# parameters\n",
    "alpha = 0.05  # Significance level\n",
    "power = 0.8  # Desired power\n",
    "baseline_conversion = 0.052  # Control group conversion rate\n",
    "mde = 0.02  # Minimum Detectable Effect (2% increase in conversion rate)\n",
    "\n",
    "# z-scores\n",
    "z_alpha = norm.ppf(1 - alpha / 2)  # Two-tailed test\n",
    "z_beta = norm.ppf(power)\n",
    "\n",
    "# Pooled conversion rate (average of control and treatment groups)\n",
    "pooled_conversion_rate = (baseline_conversion + (baseline_conversion + mde)) / 2\n",
    "\n",
    "#sample size per group\n",
    "sample_size_per_group = ((z_alpha + z_beta) ** 2 * pooled_conversion_rate * (1 - pooled_conversion_rate)) / (mde ** 2)\n",
    "sample_size=np.ceil(sample_size_per_group)\n",
    "print(f\"Required sample size per group: {sample_size}\")\n"
   ]
  },
  {
   "cell_type": "code",
   "execution_count": 15,
   "metadata": {},
   "outputs": [
    {
     "name": "stdout",
     "output_type": "stream",
     "text": [
      "Minimum Detectable Effect (MDE): 0.0284\n"
     ]
    }
   ],
   "source": [
    "import numpy as np\n",
    "from scipy.stats import norm\n",
    "\n",
    "# parameters\n",
    "alpha = 0.05  # significance level\n",
    "power = 0.8  # desired power\n",
    "p1 = 0.0529  # control group conversion rate (5.29%%)\n",
    "n = sample_size  # sample size per group\n",
    "mde = 0.02  # minimum detectable effect (2%)\n",
    "\n",
    "# z-scores\n",
    "z_alpha = norm.ppf(1 - alpha / 2)  # two-tailed test\n",
    "z_beta = norm.ppf(power)\n",
    "\n",
    "# p2 (treatment group conversion rate)\n",
    "p2 = p1 + mde\n",
    "\n",
    "# p2 does not exceed 1\n",
    "if p2 > 1:\n",
    "    raise ValueError(\"The treatment group conversion rate exceeds 1.\")\n",
    "\n",
    "# MDE using the formula\n",
    "MDE_value = np.sqrt((p1 * (1 - p1) / n) + (p2 * (1 - p2) / n)) * (z_alpha + z_beta)\n",
    "\n",
    "print(f'Minimum Detectable Effect (MDE): {MDE_value:.4f}')\n"
   ]
  },
  {
   "cell_type": "markdown",
   "metadata": {},
   "source": [
    "Conducting the A/B Test"
   ]
  },
  {
   "cell_type": "markdown",
   "metadata": {},
   "source": [
    "\n",
    "\n",
    " **Finding the Critical Value**:\n",
    "   For a two-tailed test, divide the significance level \\( \\alpha \\) by 2 and looking up the corresponding z-value from the standard normal distribution table. For \\( \\alpha = 0.05 \\), the critical z-value is **1.96** (since 95% of the normal distribution lies within ±1.96 standard deviations from the mean).\n",
    "\n",
    " **Calculating the P-value**:\n",
    "   The **p-value** is the probability that the observed result (or one more extreme) would occur if the null hypothesis were true.\n",
    "\n",
    "   - If the absolute value of the z-statistic exceeds the critical z-value (e.g., \\( |z| > 1.96 ### Explanation of the Two-Tailed Z-Test\n",
    "\n",
    "A **two-tailed z-test** is a statistical test used to determine whether there is a significant difference between the means (or proportions) of two groups (e.g., treatment and control groups) in either direction—whether the treatment increases or decreases the metric being tested.\n",
    "\n",
    "#### Steps in Conducting a Two-Tailed Z-Test\n",
    "\n",
    "1. **Define Hypotheses**:\n",
    "   - **Null Hypothesis (\\( H_0 \\))**: There is no difference between the two groups,this would mean that there is **no difference in conversion rates** between the top product categories and the rest.\n",
    "     - \\( H_0: p_{treatment} = p_{control} \\)\n",
    "   - **Alternative Hypothesis (\\( H_1 \\))**: There is a difference between the two groups (in either direction).\n",
    "     - \\( H_1: p_{treatment} \\neq p_{control} \\)\n",
    "\n",
    "2. **Setting the Significance Level (\\( \\alpha \\))**:\n",
    "   - This is the probability of rejecting the null hypothesis when it is true (Type I error). Common choices for \\( alpha ) are **0.05** (5%) or **0.01** (1%). For A/B testing, 0.05 is typically used.\n",
    "   \n",
    "3. **Calculate the Z-Statistic**:\n",
    "   The z-statistic measures how far the sample result is from the null hypothesis, in terms of standard deviations.\n",
    "\n",
    "   \\)), the p-value will be **less than \\( \\alpha \\)**, meaning the result is statistically significant.\n",
    "   - The smaller the p-value, the stronger the evidence against the null hypothesis.\n",
    "\n",
    "6. **Interpret the Results**:\n",
    "   - **If \\( |z| > 1.96 \\)** (or \\( p \\)-value < 0.05): Reject the null hypothesis. This means there is a statistically significant difference in conversion rates between the two groups.\n",
    "   - **If \\( |z| \\leq 1.96 \\)** (or \\( p \\)-value ≥ 0.05): Fail to reject the null hypothesis. This means there is no significant difference in conversion rates.\n",
    "\n",
    "---\n",
    "\n",
    "### Explaination with our Data\n",
    "\n",
    "#### Hypotheses:\n",
    "- \\( H_0 \\): There is no difference in conversion rates between top product categories (treatment) and the rest (control).\n",
    "- \\( H_1 \\): There is a difference in conversion rates between the two groups.\n",
    "\n",
    "\n",
    "\n",
    "### Summary of How the Two-Tailed Z-Test Works:\n",
    "1. **Hypotheses**: Test for any difference in either direction.\n",
    "2. **Calculate Z-Statistic**: Measures how far the observed result is from the null hypothesis.\n",
    "3. **Compare with Critical Value**: For a two-tailed test with \\( \\alpha = 0.05 \\), the critical z-value is 1.96.\n",
    "4. **P-value**: If the p-value < 0.05, reject the null hypothesis.\n",
    "5. **Interpretation**: A significant result means a meaningful difference between the groups, while a non-significant result means no evidence of a difference.\n",
    "\n"
   ]
  },
  {
   "cell_type": "code",
   "execution_count": 19,
   "metadata": {},
   "outputs": [
    {
     "name": "stdout",
     "output_type": "stream",
     "text": [
      "Treatment Group Total Orders: 33757, Successful Conversions: 2291, Conversion Rate: 6.79%\n",
      "Control Group Total Orders: 19853, Successful Conversions: 1050, Conversion Rate: 5.29%\n",
      "2291\n",
      "1050\n"
     ]
    }
   ],
   "source": [
    "def calculate_group_conversion_details(df):\n",
    "    # Total unique orders in the dataframe\n",
    "    total_orders = df['order_id'].nunique()  # Total unique orders in the group\n",
    "    \n",
    "    # orders that meet the success condition\n",
    "    converted_orders = df[(df['order_status'] == 'delivered') & \n",
    "                          ((df['payment_value'] - df['Total_price']) / df['Total_price'] > 0.15) & \n",
    "                          (df['payment_value'] > 189)]\n",
    "    \n",
    "    # Count of successful orders\n",
    "    converted_orders_count = converted_orders['order_id'].nunique()\n",
    "    \n",
    "    # Conversion rate calculation\n",
    "    conversion_rate = converted_orders_count / total_orders if total_orders > 0 else 0\n",
    "    \n",
    "    return total_orders, converted_orders_count, conversion_rate\n",
    "\n",
    "# Separating the treatment and control groups\n",
    "treatment_group = sampled_data[sampled_data['group'] == 'treatment']\n",
    "control_group = sampled_data[sampled_data['group'] == 'control']\n",
    "\n",
    "# conversion details for both groups\n",
    "treatment_total, treatment_success_count, treatment_conversion_rate = calculate_group_conversion_details(treatment_group)\n",
    "control_total, control_success_count, control_conversion_rate = calculate_group_conversion_details(control_group)\n",
    "\n",
    "# Print the results\n",
    "print(f\"Treatment Group Total Orders: {treatment_total}, Successful Conversions: {treatment_success_count}, Conversion Rate: {treatment_conversion_rate:.2%}\")\n",
    "print(f\"Control Group Total Orders: {control_total}, Successful Conversions: {control_success_count}, Conversion Rate: {control_conversion_rate:.2%}\")\n",
    "\n",
    "# Setting n1 and n2 for z-test\n",
    "n1 = treatment_success_count  # Successful conversions in treatment\n",
    "n2 = control_success_count     # Successful conversions in control\n",
    "print(n1)\n",
    "print(n2)\n"
   ]
  },
  {
   "cell_type": "code",
   "execution_count": 20,
   "metadata": {},
   "outputs": [
    {
     "name": "stdout",
     "output_type": "stream",
     "text": [
      "Treatment Group Sample Size: 33757\n",
      "Control Group Sample Size: 19853\n",
      "Treatment Group Conversion Rate: 6.79%\n",
      "Control Group Conversion Rate: 5.29%\n"
     ]
    }
   ],
   "source": [
    "# Checking the total number of unique orders in both groups\n",
    "treatment_sample_size = treatment_group['order_id'].nunique()\n",
    "control_sample_size = control_group['order_id'].nunique()\n",
    "\n",
    "# sample sizes for each group\n",
    "print(f\"Treatment Group Sample Size: {treatment_sample_size}\")\n",
    "print(f\"Control Group Sample Size: {control_sample_size}\")\n",
    "\n",
    "# conversion rates calculated previously\n",
    "treatment_conversion_rate = calculate_group_conversion_rate(treatment_group, top_categories)\n",
    "control_conversion_rate = calculate_group_conversion_rate(control_group, top_categories)\n",
    "\n",
    "# Print conversion rates\n",
    "print(f\"Treatment Group Conversion Rate: {treatment_conversion_rate:.2%}\")\n",
    "print(f\"Control Group Conversion Rate: {control_conversion_rate:.2%}\")\n"
   ]
  },
  {
   "cell_type": "code",
   "execution_count": 21,
   "metadata": {},
   "outputs": [
    {
     "name": "stdout",
     "output_type": "stream",
     "text": [
      "Z-Statistic: 1.6543\n",
      "P-Value: 0.0981\n"
     ]
    }
   ],
   "source": [
    "import numpy as np\n",
    "\n",
    "# parameters\n",
    "p1 = 0.0679  # Treatment group conversion rate\n",
    "p2 = 0.0529  # Control group conversion rate\n",
    "n1 = 2291    # Sample size for treatment group\n",
    "n2 = 1050   # Sample size for control group\n",
    "\n",
    "# number of successes in each group\n",
    "x1 = p1 * n1  # Conversions in treatment group\n",
    "x2 = p2 * n2  # Conversions in control group\n",
    "\n",
    "# pooled proportion\n",
    "p_pool = (x1 + x2) / (n1 + n2)\n",
    "\n",
    "# Z statistic\n",
    "z_manual = (p1 - p2) / np.sqrt(p_pool * (1 - p_pool) * (1/n1 + 1/n2))\n",
    "\n",
    "# p-value for two-tailed test\n",
    "p_value_manual = 2 * (1 - norm.cdf(abs(z_manual)))\n",
    "\n",
    "print(f\"Z-Statistic: {z_manual:.4f}\")\n",
    "print(f\"P-Value: {p_value_manual:.4f}\")\n"
   ]
  },
  {
   "cell_type": "markdown",
   "metadata": {},
   "source": [
    "Interpretation:\n",
    "Z-Statistic: A Z-statistic of 1.6543 shows that the difference between the conversion rates of the treatment and control groups is 1.65 standard deviations away from the expected difference under the null hypothesis (i.e., no difference between the two groups).\n",
    "\n",
    "P-Value: The p-value of 0.0981 indicates the probability of observing such a difference in conversion rates (or a more extreme one) if the null hypothesis were true. Since the p-value is greater than the common significance level of 0.05 (or 5%), we fail to reject the null hypothesis.\n",
    "\n",
    "Conclusion:\n",
    "There isn't sufficient statistical evidence to say that the conversion rates between the treatment and control groups are significantly different, considering the 5% significance level (α=0.05). However, the result is borderline at a 10% significance level (α=0.10), \n"
   ]
  },
  {
   "cell_type": "code",
   "execution_count": null,
   "metadata": {},
   "outputs": [],
   "source": []
  }
 ],
 "metadata": {
  "kernelspec": {
   "display_name": "Python 3",
   "language": "python",
   "name": "python3"
  },
  "language_info": {
   "codemirror_mode": {
    "name": "ipython",
    "version": 3
   },
   "file_extension": ".py",
   "mimetype": "text/x-python",
   "name": "python",
   "nbconvert_exporter": "python",
   "pygments_lexer": "ipython3",
   "version": "3.9.13"
  }
 },
 "nbformat": 4,
 "nbformat_minor": 2
}
